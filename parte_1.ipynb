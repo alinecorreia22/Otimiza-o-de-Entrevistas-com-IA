{
  "cells": [
    {
      "cell_type": "markdown",
      "metadata": {
        "id": "view-in-github",
        "colab_type": "text"
      },
      "source": [
        "<a href=\"https://colab.research.google.com/github/alinecorreia22/Otimiza-o-de-Entrevistas-com-IA/blob/main/parte_1.ipynb\" target=\"_parent\"><img src=\"https://colab.research.google.com/assets/colab-badge.svg\" alt=\"Open In Colab\"/></a>"
      ]
    },
    {
      "cell_type": "code",
      "source": [
        "from google.colab import files\n",
        "\n",
        "# Execute e selecione o arquivo .json correto do seu computador\n",
        "uploaded = files.upload()\n"
      ],
      "metadata": {
        "id": "9EnpjKjLSZyT",
        "outputId": "2d1910ae-ec9d-4fdb-cb4f-bf488711cbc1",
        "colab": {
          "base_uri": "https://localhost:8080/",
          "height": 141
        }
      },
      "execution_count": null,
      "outputs": [
        {
          "output_type": "display_data",
          "data": {
            "text/plain": [
              "<IPython.core.display.HTML object>"
            ],
            "text/html": [
              "\n",
              "     <input type=\"file\" id=\"files-0d230d24-37da-4a49-9530-6f5dcb7a041a\" name=\"files[]\" multiple disabled\n",
              "        style=\"border:none\" />\n",
              "     <output id=\"result-0d230d24-37da-4a49-9530-6f5dcb7a041a\">\n",
              "      Upload widget is only available when the cell has been executed in the\n",
              "      current browser session. Please rerun this cell to enable.\n",
              "      </output>\n",
              "      <script>// Copyright 2017 Google LLC\n",
              "//\n",
              "// Licensed under the Apache License, Version 2.0 (the \"License\");\n",
              "// you may not use this file except in compliance with the License.\n",
              "// You may obtain a copy of the License at\n",
              "//\n",
              "//      http://www.apache.org/licenses/LICENSE-2.0\n",
              "//\n",
              "// Unless required by applicable law or agreed to in writing, software\n",
              "// distributed under the License is distributed on an \"AS IS\" BASIS,\n",
              "// WITHOUT WARRANTIES OR CONDITIONS OF ANY KIND, either express or implied.\n",
              "// See the License for the specific language governing permissions and\n",
              "// limitations under the License.\n",
              "\n",
              "/**\n",
              " * @fileoverview Helpers for google.colab Python module.\n",
              " */\n",
              "(function(scope) {\n",
              "function span(text, styleAttributes = {}) {\n",
              "  const element = document.createElement('span');\n",
              "  element.textContent = text;\n",
              "  for (const key of Object.keys(styleAttributes)) {\n",
              "    element.style[key] = styleAttributes[key];\n",
              "  }\n",
              "  return element;\n",
              "}\n",
              "\n",
              "// Max number of bytes which will be uploaded at a time.\n",
              "const MAX_PAYLOAD_SIZE = 100 * 1024;\n",
              "\n",
              "function _uploadFiles(inputId, outputId) {\n",
              "  const steps = uploadFilesStep(inputId, outputId);\n",
              "  const outputElement = document.getElementById(outputId);\n",
              "  // Cache steps on the outputElement to make it available for the next call\n",
              "  // to uploadFilesContinue from Python.\n",
              "  outputElement.steps = steps;\n",
              "\n",
              "  return _uploadFilesContinue(outputId);\n",
              "}\n",
              "\n",
              "// This is roughly an async generator (not supported in the browser yet),\n",
              "// where there are multiple asynchronous steps and the Python side is going\n",
              "// to poll for completion of each step.\n",
              "// This uses a Promise to block the python side on completion of each step,\n",
              "// then passes the result of the previous step as the input to the next step.\n",
              "function _uploadFilesContinue(outputId) {\n",
              "  const outputElement = document.getElementById(outputId);\n",
              "  const steps = outputElement.steps;\n",
              "\n",
              "  const next = steps.next(outputElement.lastPromiseValue);\n",
              "  return Promise.resolve(next.value.promise).then((value) => {\n",
              "    // Cache the last promise value to make it available to the next\n",
              "    // step of the generator.\n",
              "    outputElement.lastPromiseValue = value;\n",
              "    return next.value.response;\n",
              "  });\n",
              "}\n",
              "\n",
              "/**\n",
              " * Generator function which is called between each async step of the upload\n",
              " * process.\n",
              " * @param {string} inputId Element ID of the input file picker element.\n",
              " * @param {string} outputId Element ID of the output display.\n",
              " * @return {!Iterable<!Object>} Iterable of next steps.\n",
              " */\n",
              "function* uploadFilesStep(inputId, outputId) {\n",
              "  const inputElement = document.getElementById(inputId);\n",
              "  inputElement.disabled = false;\n",
              "\n",
              "  const outputElement = document.getElementById(outputId);\n",
              "  outputElement.innerHTML = '';\n",
              "\n",
              "  const pickedPromise = new Promise((resolve) => {\n",
              "    inputElement.addEventListener('change', (e) => {\n",
              "      resolve(e.target.files);\n",
              "    });\n",
              "  });\n",
              "\n",
              "  const cancel = document.createElement('button');\n",
              "  inputElement.parentElement.appendChild(cancel);\n",
              "  cancel.textContent = 'Cancel upload';\n",
              "  const cancelPromise = new Promise((resolve) => {\n",
              "    cancel.onclick = () => {\n",
              "      resolve(null);\n",
              "    };\n",
              "  });\n",
              "\n",
              "  // Wait for the user to pick the files.\n",
              "  const files = yield {\n",
              "    promise: Promise.race([pickedPromise, cancelPromise]),\n",
              "    response: {\n",
              "      action: 'starting',\n",
              "    }\n",
              "  };\n",
              "\n",
              "  cancel.remove();\n",
              "\n",
              "  // Disable the input element since further picks are not allowed.\n",
              "  inputElement.disabled = true;\n",
              "\n",
              "  if (!files) {\n",
              "    return {\n",
              "      response: {\n",
              "        action: 'complete',\n",
              "      }\n",
              "    };\n",
              "  }\n",
              "\n",
              "  for (const file of files) {\n",
              "    const li = document.createElement('li');\n",
              "    li.append(span(file.name, {fontWeight: 'bold'}));\n",
              "    li.append(span(\n",
              "        `(${file.type || 'n/a'}) - ${file.size} bytes, ` +\n",
              "        `last modified: ${\n",
              "            file.lastModifiedDate ? file.lastModifiedDate.toLocaleDateString() :\n",
              "                                    'n/a'} - `));\n",
              "    const percent = span('0% done');\n",
              "    li.appendChild(percent);\n",
              "\n",
              "    outputElement.appendChild(li);\n",
              "\n",
              "    const fileDataPromise = new Promise((resolve) => {\n",
              "      const reader = new FileReader();\n",
              "      reader.onload = (e) => {\n",
              "        resolve(e.target.result);\n",
              "      };\n",
              "      reader.readAsArrayBuffer(file);\n",
              "    });\n",
              "    // Wait for the data to be ready.\n",
              "    let fileData = yield {\n",
              "      promise: fileDataPromise,\n",
              "      response: {\n",
              "        action: 'continue',\n",
              "      }\n",
              "    };\n",
              "\n",
              "    // Use a chunked sending to avoid message size limits. See b/62115660.\n",
              "    let position = 0;\n",
              "    do {\n",
              "      const length = Math.min(fileData.byteLength - position, MAX_PAYLOAD_SIZE);\n",
              "      const chunk = new Uint8Array(fileData, position, length);\n",
              "      position += length;\n",
              "\n",
              "      const base64 = btoa(String.fromCharCode.apply(null, chunk));\n",
              "      yield {\n",
              "        response: {\n",
              "          action: 'append',\n",
              "          file: file.name,\n",
              "          data: base64,\n",
              "        },\n",
              "      };\n",
              "\n",
              "      let percentDone = fileData.byteLength === 0 ?\n",
              "          100 :\n",
              "          Math.round((position / fileData.byteLength) * 100);\n",
              "      percent.textContent = `${percentDone}% done`;\n",
              "\n",
              "    } while (position < fileData.byteLength);\n",
              "  }\n",
              "\n",
              "  // All done.\n",
              "  yield {\n",
              "    response: {\n",
              "      action: 'complete',\n",
              "    }\n",
              "  };\n",
              "}\n",
              "\n",
              "scope.google = scope.google || {};\n",
              "scope.google.colab = scope.google.colab || {};\n",
              "scope.google.colab._files = {\n",
              "  _uploadFiles,\n",
              "  _uploadFilesContinue,\n",
              "};\n",
              "})(self);\n",
              "</script> "
            ]
          },
          "metadata": {}
        },
        {
          "output_type": "stream",
          "name": "stdout",
          "text": [
            "Saving applicants.json to applicants.json\n",
            "Saving vagas.json to vagas.json\n",
            "Saving prospects.json to prospects.json\n"
          ]
        }
      ]
    },
    {
      "cell_type": "code",
      "source": [
        "import pandas as pd\n",
        "import json\n",
        "\n",
        "# --- ETAPA 1: Transformar 'aplicacoes.json' ---\n",
        "with open('applicants.json', 'r', encoding='utf-8') as f:\n",
        "    aplicacoes_raw = json.load(f)\n",
        "\n",
        "aplicacoes_df = pd.json_normalize(aplicacoes_raw).T.reset_index()\n",
        "aplicacoes_df[['id_aplicacao', 'campo']] = aplicacoes_df['index'].str.extract(r\"^(\\d+)\\.(.*)\")\n",
        "aplicacoes_df = aplicacoes_df.pivot(index='id_aplicacao', columns='campo', values=0).reset_index()\n",
        "\n",
        "# --- ETAPA 2: Transformar 'vagas.json' ---\n",
        "with open('vagas.json', 'r', encoding='utf-8') as f:\n",
        "    vagas_raw = json.load(f)\n",
        "\n",
        "vagas_df = pd.json_normalize(vagas_raw).T.reset_index()\n",
        "vagas_df[['id_vaga', 'campo']] = vagas_df['index'].str.extract(r\"^(\\d+)\\.(.*)\")\n",
        "vagas_df = vagas_df.pivot(index='id_vaga', columns='campo', values=0).reset_index()\n",
        "\n",
        "# --- ETAPA 3: Tentar detectar automaticamente a coluna de vínculo ---\n",
        "possiveis_chaves_aplicacao = [col for col in aplicacoes_df.columns if 'vaga' in col.lower() or 'codigo' in col.lower()]\n",
        "possiveis_chaves_vaga = [col for col in vagas_df.columns if 'id' in col.lower() or 'codigo' in col.lower() or 'vaga' in col.lower()]\n",
        "\n",
        "print(\"🔍 Possíveis chaves em 'aplicacoes':\", possiveis_chaves_aplicacao)\n",
        "print(\"🔍 Possíveis chaves em 'vagas':\", possiveis_chaves_vaga)\n",
        "\n",
        "# Tentar encontrar uma chave em comum (valores coincidentes)\n",
        "chave_encontrada = None\n",
        "for col_ap in possiveis_chaves_aplicacao:\n",
        "    for col_vg in possiveis_chaves_vaga:\n",
        "        if aplicacoes_df[col_ap].isin(vagas_df[col_vg]).any():\n",
        "            chave_encontrada = (col_ap, col_vg)\n",
        "            break\n",
        "    if chave_encontrada:\n",
        "        break\n",
        "\n",
        "if chave_encontrada:\n",
        "    col_ap, col_vg = chave_encontrada\n",
        "    print(f\"\\n✅ Chave encontrada: aplicacoes['{col_ap}'] ↔ vagas['{col_vg}']\")\n",
        "    df_final = aplicacoes_df.merge(vagas_df, how='left', left_on=col_ap, right_on=col_vg, suffixes=('', '_vaga'))\n",
        "    print(f\"\\n🟢 Merge realizado com sucesso. Shape final: {df_final.shape}\")\n",
        "else:\n",
        "    print(\"\\n❌ Nenhuma chave comum encontrada para merge. Verifique os dados manualmente.\")\n"
      ],
      "metadata": {
        "colab": {
          "base_uri": "https://localhost:8080/"
        },
        "id": "1RMhNEm_d2uP",
        "outputId": "9687b07a-54ae-4224-da1e-71f7b8f3db5b"
      },
      "execution_count": null,
      "outputs": [
        {
          "output_type": "stream",
          "name": "stdout",
          "text": [
            "🔍 Possíveis chaves em 'aplicacoes': ['infos_basicas.codigo_profissional']\n",
            "🔍 Possíveis chaves em 'vagas': ['id_vaga', 'informacoes_basicas.objetivo_vaga', 'informacoes_basicas.origem_vaga', 'informacoes_basicas.prioridade_vaga', 'informacoes_basicas.titulo_vaga', 'informacoes_basicas.vaga_sap', 'perfil_vaga.areas_atuacao', 'perfil_vaga.bairro', 'perfil_vaga.cidade', 'perfil_vaga.competencia_tecnicas_e_comportamentais', 'perfil_vaga.demais_observacoes', 'perfil_vaga.equipamentos_necessarios', 'perfil_vaga.estado', 'perfil_vaga.faixa_etaria', 'perfil_vaga.habilidades_comportamentais_necessarias', 'perfil_vaga.horario_trabalho', 'perfil_vaga.local_trabalho', 'perfil_vaga.nivel profissional', 'perfil_vaga.nivel_academico', 'perfil_vaga.nivel_espanhol', 'perfil_vaga.nivel_ingles', 'perfil_vaga.outro_idioma', 'perfil_vaga.pais', 'perfil_vaga.principais_atividades', 'perfil_vaga.regiao', 'perfil_vaga.vaga_especifica_para_pcd', 'perfil_vaga.viagens_requeridas']\n",
            "\n",
            "✅ Chave encontrada: aplicacoes['infos_basicas.codigo_profissional'] ↔ vagas['id_vaga']\n",
            "\n",
            "🟢 Merge realizado com sucesso. Shape final: (42482, 103)\n"
          ]
        }
      ]
    },
    {
      "cell_type": "code",
      "source": [
        "print(df_final.columns.tolist())"
      ],
      "metadata": {
        "colab": {
          "base_uri": "https://localhost:8080/"
        },
        "id": "631NxRPxg2HC",
        "outputId": "b2abe3cf-6ee9-4d8e-9c5f-88da593979a0"
      },
      "execution_count": null,
      "outputs": [
        {
          "output_type": "stream",
          "name": "stdout",
          "text": [
            "['id_aplicacao', 'cargo_atual.cargo_atual', 'cargo_atual.cliente', 'cargo_atual.data_admissao', 'cargo_atual.data_ultima_promocao', 'cargo_atual.email_corporativo', 'cargo_atual.email_superior_imediato', 'cargo_atual.id_ibrati', 'cargo_atual.nome_superior_imediato', 'cargo_atual.projeto_atual', 'cargo_atual.unidade', 'cv_en', 'cv_pt', 'formacao_e_idiomas.ano_conclusao', 'formacao_e_idiomas.cursos', 'formacao_e_idiomas.instituicao_ensino_superior', 'formacao_e_idiomas.nivel_academico', 'formacao_e_idiomas.nivel_espanhol', 'formacao_e_idiomas.nivel_ingles', 'formacao_e_idiomas.outro_curso', 'formacao_e_idiomas.outro_idioma', 'informacoes_pessoais.cpf', 'informacoes_pessoais.data_aceite', 'informacoes_pessoais.data_nascimento', 'informacoes_pessoais.download_cv', 'informacoes_pessoais.email', 'informacoes_pessoais.email_secundario', 'informacoes_pessoais.endereco', 'informacoes_pessoais.estado_civil', 'informacoes_pessoais.facebook', 'informacoes_pessoais.fonte_indicacao', 'informacoes_pessoais.nome', 'informacoes_pessoais.pcd', 'informacoes_pessoais.sexo', 'informacoes_pessoais.skype', 'informacoes_pessoais.telefone_celular', 'informacoes_pessoais.telefone_recado', 'informacoes_pessoais.url_linkedin', 'informacoes_profissionais.area_atuacao', 'informacoes_profissionais.certificacoes', 'informacoes_profissionais.conhecimentos_tecnicos', 'informacoes_profissionais.experiencias', 'informacoes_profissionais.nivel_profissional', 'informacoes_profissionais.outras_certificacoes', 'informacoes_profissionais.qualificacoes', 'informacoes_profissionais.remuneracao', 'informacoes_profissionais.titulo_profissional', 'infos_basicas.codigo_profissional', 'infos_basicas.data_atualizacao', 'infos_basicas.data_criacao', 'infos_basicas.email', 'infos_basicas.inserido_por', 'infos_basicas.local', 'infos_basicas.nome', 'infos_basicas.objetivo_profissional', 'infos_basicas.sabendo_de_nos_por', 'infos_basicas.telefone', 'infos_basicas.telefone_recado', 'id_vaga', 'beneficios.valor_compra_1', 'beneficios.valor_compra_2', 'beneficios.valor_venda', 'informacoes_basicas.analista_responsavel', 'informacoes_basicas.cliente', 'informacoes_basicas.data_final', 'informacoes_basicas.data_inicial', 'informacoes_basicas.data_requicisao', 'informacoes_basicas.empresa_divisao', 'informacoes_basicas.limite_esperado_para_contratacao', 'informacoes_basicas.nome', 'informacoes_basicas.nome_substituto', 'informacoes_basicas.objetivo_vaga', 'informacoes_basicas.origem_vaga', 'informacoes_basicas.prazo_contratacao', 'informacoes_basicas.prioridade_vaga', 'informacoes_basicas.requisitante', 'informacoes_basicas.solicitante_cliente', 'informacoes_basicas.superior_imediato', 'informacoes_basicas.telefone', 'informacoes_basicas.tipo_contratacao', 'informacoes_basicas.titulo_vaga', 'informacoes_basicas.vaga_sap', 'perfil_vaga.areas_atuacao', 'perfil_vaga.bairro', 'perfil_vaga.cidade', 'perfil_vaga.competencia_tecnicas_e_comportamentais', 'perfil_vaga.demais_observacoes', 'perfil_vaga.equipamentos_necessarios', 'perfil_vaga.estado', 'perfil_vaga.faixa_etaria', 'perfil_vaga.habilidades_comportamentais_necessarias', 'perfil_vaga.horario_trabalho', 'perfil_vaga.local_trabalho', 'perfil_vaga.nivel profissional', 'perfil_vaga.nivel_academico', 'perfil_vaga.nivel_espanhol', 'perfil_vaga.nivel_ingles', 'perfil_vaga.outro_idioma', 'perfil_vaga.pais', 'perfil_vaga.principais_atividades', 'perfil_vaga.regiao', 'perfil_vaga.vaga_especifica_para_pcd', 'perfil_vaga.viagens_requeridas']\n"
          ]
        }
      ]
    },
    {
      "cell_type": "code",
      "source": [
        "[col for col in df_final.columns if 'status' in col.lower()]"
      ],
      "metadata": {
        "colab": {
          "base_uri": "https://localhost:8080/"
        },
        "id": "HAJPEbNihhDO",
        "outputId": "ad09c957-ea18-42ff-956e-b9d070582ae6"
      },
      "execution_count": null,
      "outputs": [
        {
          "output_type": "execute_result",
          "data": {
            "text/plain": [
              "[]"
            ]
          },
          "metadata": {},
          "execution_count": 18
        }
      ]
    },
    {
      "cell_type": "code",
      "source": [
        "[col for col in df_final.columns if any(palavra in col.lower() for palavra in ['avaliacao', 'resultado', 'entrevista', 'motivo', 'decisao', 'andamento', 'final'])]"
      ],
      "metadata": {
        "colab": {
          "base_uri": "https://localhost:8080/"
        },
        "id": "Kp6HtrDzhp6B",
        "outputId": "5b48d3ae-1c6a-40dc-86c7-3b39f6e900a3"
      },
      "execution_count": null,
      "outputs": [
        {
          "output_type": "execute_result",
          "data": {
            "text/plain": [
              "['informacoes_basicas.data_final']"
            ]
          },
          "metadata": {},
          "execution_count": 19
        }
      ]
    },
    {
      "cell_type": "code",
      "source": [
        "colunas = [\n",
        "    'formacao_e_idiomas.nivel_academico',\n",
        "    'formacao_e_idiomas.nivel_ingles',\n",
        "    'informacoes_profissionais.nivel_profissional',\n",
        "    'informacoes_profissionais.remuneracao',\n",
        "    'perfil_vaga.competencia_tecnicas_e_comportamentais',\n",
        "    'informacoes_basicas.tipo_contratacao',\n",
        "    'informacoes_basicas.cliente',\n",
        "    'informacoes_basicas.data_final'  # usada como base para target\n",
        "]\n",
        "\n",
        "df_modelo = df_final[colunas].copy()\n",
        "\n",
        "# Criar variável-alvo com base na presença de data_final\n",
        "df_modelo['target'] = df_modelo['informacoes_basicas.data_final'].notna().astype(int)\n",
        "\n",
        "# Remover a coluna usada como base para o target\n",
        "df_modelo = df_modelo.drop(columns=['informacoes_basicas.data_final'])"
      ],
      "metadata": {
        "id": "6Hr2rU2ngENE"
      },
      "execution_count": null,
      "outputs": []
    },
    {
      "cell_type": "code",
      "source": [
        "from sklearn.model_selection import train_test_split\n",
        "from sklearn.ensemble import RandomForestClassifier\n",
        "from sklearn.preprocessing import LabelEncoder\n",
        "from sklearn.metrics import classification_report\n",
        "import joblib\n",
        "\n",
        "X = df_modelo.drop('target', axis=1)\n",
        "y = df_modelo['target']\n",
        "\n",
        "le_dict = {}\n",
        "for col in X.columns:\n",
        "    if X[col].dtype == 'object':\n",
        "        le = LabelEncoder()\n",
        "        X[col] = le.fit_transform(X[col].astype(str))\n",
        "        le_dict[col] = le\n",
        "\n",
        "X_train, X_test, y_train, y_test = train_test_split(X, y, test_size=0.2, random_state=42)\n",
        "\n",
        "model = RandomForestClassifier(random_state=42)\n",
        "model.fit(X_train, y_train)\n",
        "\n",
        "y_pred = model.predict(X_test)\n",
        "print(classification_report(y_test, y_pred))\n",
        "\n",
        "# Salvar modelo e recursos\n",
        "joblib.dump(model, 'modelo_entrevista.pkl')\n",
        "joblib.dump(le_dict, 'label_encoders.pkl')\n",
        "joblib.dump(list(X.columns), 'features_utilizadas.pkl')\n"
      ],
      "metadata": {
        "colab": {
          "base_uri": "https://localhost:8080/"
        },
        "id": "cq0HhzaPh8tp",
        "outputId": "814ac40d-8789-45f9-81bc-027500a9adbe"
      },
      "execution_count": null,
      "outputs": [
        {
          "output_type": "stream",
          "name": "stdout",
          "text": [
            "              precision    recall  f1-score   support\n",
            "\n",
            "           0       0.98      0.98      0.98      7582\n",
            "           1       0.81      0.79      0.80       915\n",
            "\n",
            "    accuracy                           0.96      8497\n",
            "   macro avg       0.89      0.89      0.89      8497\n",
            "weighted avg       0.96      0.96      0.96      8497\n",
            "\n"
          ]
        },
        {
          "output_type": "execute_result",
          "data": {
            "text/plain": [
              "['features_utilizadas.pkl']"
            ]
          },
          "metadata": {},
          "execution_count": 21
        }
      ]
    }
  ],
  "metadata": {
    "colab": {
      "provenance": [],
      "include_colab_link": true
    },
    "kernelspec": {
      "display_name": "Python 3",
      "name": "python3"
    }
  },
  "nbformat": 4,
  "nbformat_minor": 0
}